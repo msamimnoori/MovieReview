{
  "nbformat": 4,
  "nbformat_minor": 0,
  "metadata": {
    "colab": {
      "name": "Untitled4.ipynb",
      "provenance": [],
      "authorship_tag": "ABX9TyMLfAhu9CagkFXOitMQmRqg",
      "include_colab_link": true
    },
    "kernelspec": {
      "name": "python3",
      "display_name": "Python 3"
    },
    "language_info": {
      "name": "python"
    }
  },
  "cells": [
    {
      "cell_type": "markdown",
      "metadata": {
        "id": "view-in-github",
        "colab_type": "text"
      },
      "source": [
        "<a href=\"https://colab.research.google.com/github/msamimnoori/MovieReview/blob/main/Untitled4.ipynb\" target=\"_parent\"><img src=\"https://colab.research.google.com/assets/colab-badge.svg\" alt=\"Open In Colab\"/></a>"
      ]
    },
    {
      "cell_type": "code",
      "execution_count": 4,
      "metadata": {
        "colab": {
          "base_uri": "https://localhost:8080/"
        },
        "id": "rLTvsZsKI8_U",
        "outputId": "3f45a0c0-5a10-4ecf-868f-2911bb565b30"
      },
      "outputs": [
        {
          "output_type": "stream",
          "name": "stdout",
          "text": [
            "False\n"
          ]
        }
      ],
      "source": [
        " #has22({1, 2, 2}) → true\n",
        "  #has22({1, 2, 1, 2}) → false\n",
        "   #has22({2, 1, 2}) → false\n",
        "def has22(nums):\n",
        "    for i in range(len(nums) - 1):\n",
        "        if nums[i] == 2 and nums[i + 1] == 2:\n",
        "            return True\n",
        "\n",
        "    return False\n",
        "\n",
        "print(has22([1,2,1,2]))"
      ]
    },
    {
      "cell_type": "code",
      "source": [
        "#sum67({1, 2, 2}) → 5\n",
        " #sum67({1, 2, 2, 6, 99, 99, 7}) → 5\n",
        "  #sum67({1, 1, 6, 7, 2}) → 4\n",
        "def sum67(nums):\n",
        "    sum = 0 \n",
        "    throwaway = 0\n",
        "    for i in range(len(nums)):\n",
        "        if throwaway == 0:\n",
        "            if nums[i] == 6:\n",
        "                throwaway = 1\n",
        "        elif throwaway == 1 and i > 0 and nums[i-1] == 7:\n",
        "            throwaway = 0\n",
        "        if throwaway == 0:\n",
        "            sum += nums[i]\n",
        "    return sum\n",
        "print(sum67([1,2,2]))"
      ],
      "metadata": {
        "colab": {
          "base_uri": "https://localhost:8080/"
        },
        "id": "GSBwgPvlJdIe",
        "outputId": "03fca47b-b4f7-46b2-82c0-24fb1ca776f4"
      },
      "execution_count": 8,
      "outputs": [
        {
          "output_type": "stream",
          "name": "stdout",
          "text": [
            "5\n"
          ]
        }
      ]
    },
    {
      "cell_type": "code",
      "source": [
        "#count_evens([2, 1, 2, 3, 4]) → 3\n",
        " #count_evens([2, 2, 0]) → 3\n",
        "  #count_evens([1, 3, 5]) → 0\n",
        "def count_evens(nums):\n",
        "  count = 0\n",
        "  for i in range(len(nums)):\n",
        "    if nums[i] % 2 == 0:\n",
        "      count += 1\n",
        "  return count\n",
        "\n",
        "print(count_evens([2,1,2,3,4]))"
      ],
      "metadata": {
        "colab": {
          "base_uri": "https://localhost:8080/"
        },
        "id": "YmsxKULxJ1gh",
        "outputId": "4c0b8c5b-492b-44ea-e6f3-98f5e43a1649"
      },
      "execution_count": 12,
      "outputs": [
        {
          "output_type": "stream",
          "name": "stdout",
          "text": [
            "3\n"
          ]
        }
      ]
    },
    {
      "cell_type": "code",
      "source": [
        "#double_char( 'The' ) → ‘TThhee’\n",
        "#double_char(‘AAbb’) → ‘AAAAbbbb’ \n",
        "#double_char(‘Hi-There’) → ‘HHii--TThheerree’\n",
        "def double_char(str):\n",
        " result = ''\n",
        " for char in str:\n",
        "  result += char * 2\n",
        "  return result\n",
        "print(double_char('The'))"
      ],
      "metadata": {
        "colab": {
          "base_uri": "https://localhost:8080/"
        },
        "id": "j397bfSiKi_c",
        "outputId": "1f368215-a7b1-4086-a1d5-c5456dbeae0a"
      },
      "execution_count": 15,
      "outputs": [
        {
          "output_type": "stream",
          "name": "stdout",
          "text": [
            "TT\n"
          ]
        }
      ]
    },
    {
      "cell_type": "code",
      "source": [
        "#array123([1, 1, 2, 3, 1]) → True \n",
        "#array123([1, 1, 2, 4, 1]) → False \n",
        "#array123([1, 1, 2, 1, 2, 3]) → True\n",
        "def array123(nums):\n",
        "  wisdom = False\n",
        "\n",
        "  for num in range(len(nums)+2):\n",
        "    if nums[num:num+3] == [1, 2, 3]:\n",
        "      wisdom = True\n",
        "  return wisdom\n",
        "  print(array123[1,1,2,3,1])"
      ],
      "metadata": {
        "id": "4LlgdKe6YLmp"
      },
      "execution_count": 4,
      "outputs": []
    }
  ]
}